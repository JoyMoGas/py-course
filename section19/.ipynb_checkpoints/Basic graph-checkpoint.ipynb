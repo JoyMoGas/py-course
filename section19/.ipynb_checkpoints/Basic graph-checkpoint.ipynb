{
 "cells": [
  {
   "cell_type": "code",
   "execution_count": 16,
   "id": "aa5eb60f-5bce-42a6-8196-3b02743abf36",
   "metadata": {},
   "outputs": [],
   "source": [
    "#Laking a basic Bokeh Line graph\n",
    "\n",
    "#importing Bokeh\n",
    "from bokeh.plotting import figure\n",
    "from bokeh.io import output_file, show\n",
    "\n",
    "#prepare some data\n",
    "x=[1,2,3,4,5]\n",
    "y=[6,7,8,9,10]\n",
    "\n",
    "f1=[3,7.5,10]\n",
    "f2=[3,6,9]\n",
    "\n",
    "f3=[3,7.5,10]\n",
    "f4=[3,6,9]\n",
    "\n",
    "#prepare the output file\n",
    "output_file('Line.html')\n",
    "\n",
    "#create a figure object\n",
    "f=figure()\n",
    "\n",
    "#create Line plot\n",
    "f.line(x,y)\n",
    "\n",
    "#write the plot in the figure object\n",
    "show(f)"
   ]
  },
  {
   "cell_type": "code",
   "execution_count": 17,
   "id": "d09fa93e-e59a-4349-acc8-be9b7172d68f",
   "metadata": {},
   "outputs": [],
   "source": [
    "#Laking a basic Bokeh Line graph\n",
    "\n",
    "#importing Bokeh and Pandas\n",
    "from bokeh.plotting import figure\n",
    "from bokeh.io import output_file, show\n",
    "import pandas\n",
    "\n",
    "#prepare some data\n",
    "df=pandas.read_csv('data.csv')\n",
    "x=df['x']\n",
    "y=df['y']\n",
    "\n",
    "#prepare the output file\n",
    "output_file('Line_from_csv.html')\n",
    "\n",
    "#create a figure object\n",
    "f=figure()\n",
    "\n",
    "#create Line plot\n",
    "f.line(x,y)\n",
    "\n",
    "#write the plot in the figure object\n",
    "show(f)"
   ]
  },
  {
   "cell_type": "code",
   "execution_count": 19,
   "id": "77e80963-a674-4d42-bd88-68a3b9931e76",
   "metadata": {},
   "outputs": [],
   "source": [
    "#Laking a basic Bokeh Line graph\n",
    "\n",
    "#importing Bokeh and Pandas\n",
    "from bokeh.plotting import figure\n",
    "from bokeh.io import output_file, show\n",
    "import pandas\n",
    "\n",
    "#prepare some data\n",
    "df=pandas.read_csv('bachelors.csv')\n",
    "x=df['Year']\n",
    "y=df['Engineering']\n",
    "\n",
    "#prepare the output file\n",
    "output_file('Line_from_csv.html')\n",
    "\n",
    "#create a figure object\n",
    "f=figure()\n",
    "\n",
    "#create Line plot\n",
    "f.line(x,y)\n",
    "\n",
    "#write the plot in the figure object\n",
    "show(f)"
   ]
  },
  {
   "cell_type": "code",
   "execution_count": 27,
   "id": "1aaec765-e0b9-429a-9ece-ec75915d1858",
   "metadata": {},
   "outputs": [],
   "source": [
    "# Importing Bokeh and Pandas\n",
    "from bokeh.plotting import figure\n",
    "from bokeh.io import output_file, show\n",
    "import pandas\n",
    "\n",
    "# Define the figure\n",
    "p = figure(width=500, height=400, tools='pan')\n",
    "\n",
    "# Customize the plot\n",
    "p.title.text = 'Cool Data'\n",
    "p.title.text_color = 'Gray'\n",
    "p.title.text_font = 'times'\n",
    "p.title.text_font_style = 'bold'\n",
    "p.xaxis.minor_tick_line_color = None\n",
    "p.yaxis.minor_tick_line_color = None\n",
    "p.xaxis.axis_label = 'Date'\n",
    "p.yaxis.axis_label = 'Intensity'\n",
    "\n",
    "# Add a line to the plot\n",
    "p.line([1, 2, 3], [4, 5, 6])\n",
    "\n",
    "# Output to file and show the plot\n",
    "output_file('graph.html')\n",
    "show(p)\n"
   ]
  },
  {
   "cell_type": "code",
   "execution_count": 32,
   "id": "c0a83eba-c9e5-452e-97f4-df3d54b4b359",
   "metadata": {},
   "outputs": [
    {
     "name": "stderr",
     "output_type": "stream",
     "text": [
      "BokehDeprecationWarning: 'circle() method with size value' was deprecated in Bokeh 3.4.0 and will be removed, use 'scatter(size=...) instead' instead.\n"
     ]
    }
   ],
   "source": [
    "import pandas\n",
    "from bokeh.plotting import figure, output_file, show\n",
    "\n",
    "# Usar el enlace raw del archivo Excel\n",
    "df = pandas.read_excel(\"https://raw.githubusercontent.com/pythonizing/data/master/verlegenhuken.xlsx\", sheet_name=0)\n",
    "\n",
    "# Ajustar los datos\n",
    "df[\"Temperature\"] = df[\"Temperature\"] / 10\n",
    "df[\"Pressure\"] = df[\"Pressure\"] / 10\n",
    "\n",
    "# Configuración del gráfico\n",
    "p = figure(width=500, height=400, tools='pan')\n",
    "p.title.text = \"Temperature and Air Pressure\"\n",
    "p.title.text_color = \"Gray\"\n",
    "p.title.text_font = \"arial\"\n",
    "p.title.text_font_style = \"bold\"\n",
    "p.xaxis.minor_tick_line_color = None\n",
    "p.yaxis.minor_tick_line_color = None\n",
    "p.xaxis.axis_label = \"Temperature (°C)\"\n",
    "p.yaxis.axis_label = \"Pressure (hPa)\"    \n",
    "\n",
    "# Dibujar círculo\n",
    "p.circle(df[\"Temperature\"], df[\"Pressure\"], size=0.5)\n",
    "output_file(\"Weather.html\")\n",
    "show(p)\n"
   ]
  },
  {
   "cell_type": "code",
   "execution_count": 35,
   "id": "5526096c-d18b-4f26-abbe-9bf9304af96a",
   "metadata": {},
   "outputs": [
    {
     "name": "stderr",
     "output_type": "stream",
     "text": [
      "BokehDeprecationWarning: 'circle() method with size value' was deprecated in Bokeh 3.4.0 and will be removed, use 'scatter(size=...) instead' instead.\n"
     ]
    }
   ],
   "source": [
    "from bokeh.plotting import figure, output_file, show\n",
    "\n",
    "# Definir el gráfico\n",
    "p = figure(width=500, height=400, tools='pan,reset')\n",
    "\n",
    "# Configuración del título\n",
    "p.title.text = \"Earthquakes\"\n",
    "p.title.text_color = \"Orange\"\n",
    "p.title.text_font = \"times\"\n",
    "p.title.text_font_style = \"italic\"\n",
    "\n",
    "# Configuración de los ejes\n",
    "p.yaxis.minor_tick_line_color = \"Yellow\"\n",
    "p.xaxis.axis_label = \"Times\"\n",
    "p.yaxis.axis_label = \"Value\"\n",
    "\n",
    "# Dibujar puntos en el gráfico\n",
    "p.circle(\n",
    "    [1, 2, 3, 4, 5], \n",
    "    [5, 6, 5, 5, 3], \n",
    "    size=[i * 2 for i in [8, 12, 14, 15, 20]], \n",
    "    color=\"red\", \n",
    "    alpha=0.5\n",
    ")\n",
    "\n",
    "# Generar el archivo de salida\n",
    "output_file(\"Scatter_plotting.html\")\n",
    "\n",
    "# Mostrar el gráfico\n",
    "show(p)\n"
   ]
  },
  {
   "cell_type": "code",
   "execution_count": 38,
   "id": "5cae5010-961f-4ea7-b5d9-a31398a96f0b",
   "metadata": {},
   "outputs": [
    {
     "ename": "ValueError",
     "evalue": "Missing column provided to 'parse_dates': 'Date'",
     "output_type": "error",
     "traceback": [
      "\u001b[1;31m-------------------------------------------------------------------------\u001b[0m",
      "\u001b[1;31mValueError\u001b[0m                              Traceback (most recent call last)",
      "Cell \u001b[1;32mIn[38], line 4\u001b[0m\n\u001b[0;32m      1\u001b[0m \u001b[38;5;28;01mfrom\u001b[39;00m \u001b[38;5;21;01mbokeh\u001b[39;00m\u001b[38;5;21;01m.\u001b[39;00m\u001b[38;5;21;01mplotting\u001b[39;00m \u001b[38;5;28;01mimport\u001b[39;00m figure, output_file, show\n\u001b[0;32m      2\u001b[0m \u001b[38;5;28;01mimport\u001b[39;00m \u001b[38;5;21;01mpandas\u001b[39;00m\n\u001b[1;32m----> 4\u001b[0m df\u001b[38;5;241m=\u001b[39m\u001b[43mpandas\u001b[49m\u001b[38;5;241;43m.\u001b[39;49m\u001b[43mread_csv\u001b[49m\u001b[43m(\u001b[49m\u001b[38;5;124;43m'\u001b[39;49m\u001b[38;5;124;43mhttps://www.google.com/finance/quote/ADBE:NASDAQ?startdate=Jan+01,+2009&enddate=Aug+2,+2012&output=csv\u001b[39;49m\u001b[38;5;124;43m'\u001b[39;49m\u001b[43m,\u001b[49m\u001b[43m \u001b[49m\u001b[43mparse_dates\u001b[49m\u001b[38;5;241;43m=\u001b[39;49m\u001b[43m[\u001b[49m\u001b[38;5;124;43m'\u001b[39;49m\u001b[38;5;124;43mDate\u001b[39;49m\u001b[38;5;124;43m'\u001b[39;49m\u001b[43m]\u001b[49m\u001b[43m)\u001b[49m\n\u001b[0;32m      5\u001b[0m p\u001b[38;5;241m=\u001b[39mfigure(width\u001b[38;5;241m=\u001b[39m\u001b[38;5;241m500\u001b[39m,height\u001b[38;5;241m=\u001b[39m\u001b[38;5;241m500\u001b[39m,x_axis_type\u001b[38;5;241m=\u001b[39m\u001b[38;5;124m\"\u001b[39m\u001b[38;5;124mdatetime\u001b[39m\u001b[38;5;124m\"\u001b[39m)\n\u001b[0;32m      7\u001b[0m p\u001b[38;5;241m.\u001b[39mline(df[\u001b[38;5;124m'\u001b[39m\u001b[38;5;124mDate\u001b[39m\u001b[38;5;124m'\u001b[39m],df[\u001b[38;5;124m'\u001b[39m\u001b[38;5;124mClose\u001b[39m\u001b[38;5;124m'\u001b[39m],color\u001b[38;5;241m=\u001b[39m\u001b[38;5;124m'\u001b[39m\u001b[38;5;124mOrange\u001b[39m\u001b[38;5;124m'\u001b[39m,alpha\u001b[38;5;241m=\u001b[39m\u001b[38;5;241m0.5\u001b[39m)\n",
      "File \u001b[1;32mC:\\Python312\\Lib\\site-packages\\pandas\\io\\parsers\\readers.py:1026\u001b[0m, in \u001b[0;36mread_csv\u001b[1;34m(filepath_or_buffer, sep, delimiter, header, names, index_col, usecols, dtype, engine, converters, true_values, false_values, skipinitialspace, skiprows, skipfooter, nrows, na_values, keep_default_na, na_filter, verbose, skip_blank_lines, parse_dates, infer_datetime_format, keep_date_col, date_parser, date_format, dayfirst, cache_dates, iterator, chunksize, compression, thousands, decimal, lineterminator, quotechar, quoting, doublequote, escapechar, comment, encoding, encoding_errors, dialect, on_bad_lines, delim_whitespace, low_memory, memory_map, float_precision, storage_options, dtype_backend)\u001b[0m\n\u001b[0;32m   1013\u001b[0m kwds_defaults \u001b[38;5;241m=\u001b[39m _refine_defaults_read(\n\u001b[0;32m   1014\u001b[0m     dialect,\n\u001b[0;32m   1015\u001b[0m     delimiter,\n\u001b[1;32m   (...)\u001b[0m\n\u001b[0;32m   1022\u001b[0m     dtype_backend\u001b[38;5;241m=\u001b[39mdtype_backend,\n\u001b[0;32m   1023\u001b[0m )\n\u001b[0;32m   1024\u001b[0m kwds\u001b[38;5;241m.\u001b[39mupdate(kwds_defaults)\n\u001b[1;32m-> 1026\u001b[0m \u001b[38;5;28;01mreturn\u001b[39;00m \u001b[43m_read\u001b[49m\u001b[43m(\u001b[49m\u001b[43mfilepath_or_buffer\u001b[49m\u001b[43m,\u001b[49m\u001b[43m \u001b[49m\u001b[43mkwds\u001b[49m\u001b[43m)\u001b[49m\n",
      "File \u001b[1;32mC:\\Python312\\Lib\\site-packages\\pandas\\io\\parsers\\readers.py:620\u001b[0m, in \u001b[0;36m_read\u001b[1;34m(filepath_or_buffer, kwds)\u001b[0m\n\u001b[0;32m    617\u001b[0m _validate_names(kwds\u001b[38;5;241m.\u001b[39mget(\u001b[38;5;124m\"\u001b[39m\u001b[38;5;124mnames\u001b[39m\u001b[38;5;124m\"\u001b[39m, \u001b[38;5;28;01mNone\u001b[39;00m))\n\u001b[0;32m    619\u001b[0m \u001b[38;5;66;03m# Create the parser.\u001b[39;00m\n\u001b[1;32m--> 620\u001b[0m parser \u001b[38;5;241m=\u001b[39m \u001b[43mTextFileReader\u001b[49m\u001b[43m(\u001b[49m\u001b[43mfilepath_or_buffer\u001b[49m\u001b[43m,\u001b[49m\u001b[43m \u001b[49m\u001b[38;5;241;43m*\u001b[39;49m\u001b[38;5;241;43m*\u001b[39;49m\u001b[43mkwds\u001b[49m\u001b[43m)\u001b[49m\n\u001b[0;32m    622\u001b[0m \u001b[38;5;28;01mif\u001b[39;00m chunksize \u001b[38;5;129;01mor\u001b[39;00m iterator:\n\u001b[0;32m    623\u001b[0m     \u001b[38;5;28;01mreturn\u001b[39;00m parser\n",
      "File \u001b[1;32mC:\\Python312\\Lib\\site-packages\\pandas\\io\\parsers\\readers.py:1620\u001b[0m, in \u001b[0;36mTextFileReader.__init__\u001b[1;34m(self, f, engine, **kwds)\u001b[0m\n\u001b[0;32m   1617\u001b[0m     \u001b[38;5;28mself\u001b[39m\u001b[38;5;241m.\u001b[39moptions[\u001b[38;5;124m\"\u001b[39m\u001b[38;5;124mhas_index_names\u001b[39m\u001b[38;5;124m\"\u001b[39m] \u001b[38;5;241m=\u001b[39m kwds[\u001b[38;5;124m\"\u001b[39m\u001b[38;5;124mhas_index_names\u001b[39m\u001b[38;5;124m\"\u001b[39m]\n\u001b[0;32m   1619\u001b[0m \u001b[38;5;28mself\u001b[39m\u001b[38;5;241m.\u001b[39mhandles: IOHandles \u001b[38;5;241m|\u001b[39m \u001b[38;5;28;01mNone\u001b[39;00m \u001b[38;5;241m=\u001b[39m \u001b[38;5;28;01mNone\u001b[39;00m\n\u001b[1;32m-> 1620\u001b[0m \u001b[38;5;28mself\u001b[39m\u001b[38;5;241m.\u001b[39m_engine \u001b[38;5;241m=\u001b[39m \u001b[38;5;28;43mself\u001b[39;49m\u001b[38;5;241;43m.\u001b[39;49m\u001b[43m_make_engine\u001b[49m\u001b[43m(\u001b[49m\u001b[43mf\u001b[49m\u001b[43m,\u001b[49m\u001b[43m \u001b[49m\u001b[38;5;28;43mself\u001b[39;49m\u001b[38;5;241;43m.\u001b[39;49m\u001b[43mengine\u001b[49m\u001b[43m)\u001b[49m\n",
      "File \u001b[1;32mC:\\Python312\\Lib\\site-packages\\pandas\\io\\parsers\\readers.py:1898\u001b[0m, in \u001b[0;36mTextFileReader._make_engine\u001b[1;34m(self, f, engine)\u001b[0m\n\u001b[0;32m   1895\u001b[0m     \u001b[38;5;28;01mraise\u001b[39;00m \u001b[38;5;167;01mValueError\u001b[39;00m(msg)\n\u001b[0;32m   1897\u001b[0m \u001b[38;5;28;01mtry\u001b[39;00m:\n\u001b[1;32m-> 1898\u001b[0m     \u001b[38;5;28;01mreturn\u001b[39;00m \u001b[43mmapping\u001b[49m\u001b[43m[\u001b[49m\u001b[43mengine\u001b[49m\u001b[43m]\u001b[49m\u001b[43m(\u001b[49m\u001b[43mf\u001b[49m\u001b[43m,\u001b[49m\u001b[43m \u001b[49m\u001b[38;5;241;43m*\u001b[39;49m\u001b[38;5;241;43m*\u001b[39;49m\u001b[38;5;28;43mself\u001b[39;49m\u001b[38;5;241;43m.\u001b[39;49m\u001b[43moptions\u001b[49m\u001b[43m)\u001b[49m\n\u001b[0;32m   1899\u001b[0m \u001b[38;5;28;01mexcept\u001b[39;00m \u001b[38;5;167;01mException\u001b[39;00m:\n\u001b[0;32m   1900\u001b[0m     \u001b[38;5;28;01mif\u001b[39;00m \u001b[38;5;28mself\u001b[39m\u001b[38;5;241m.\u001b[39mhandles \u001b[38;5;129;01mis\u001b[39;00m \u001b[38;5;129;01mnot\u001b[39;00m \u001b[38;5;28;01mNone\u001b[39;00m:\n",
      "File \u001b[1;32mC:\\Python312\\Lib\\site-packages\\pandas\\io\\parsers\\c_parser_wrapper.py:161\u001b[0m, in \u001b[0;36mCParserWrapper.__init__\u001b[1;34m(self, src, **kwds)\u001b[0m\n\u001b[0;32m    155\u001b[0m         \u001b[38;5;28mself\u001b[39m\u001b[38;5;241m.\u001b[39m_validate_usecols_names(\n\u001b[0;32m    156\u001b[0m             usecols,\n\u001b[0;32m    157\u001b[0m             \u001b[38;5;28mself\u001b[39m\u001b[38;5;241m.\u001b[39mnames,  \u001b[38;5;66;03m# type: ignore[has-type]\u001b[39;00m\n\u001b[0;32m    158\u001b[0m         )\n\u001b[0;32m    160\u001b[0m \u001b[38;5;66;03m# error: Cannot determine type of 'names'\u001b[39;00m\n\u001b[1;32m--> 161\u001b[0m \u001b[38;5;28;43mself\u001b[39;49m\u001b[38;5;241;43m.\u001b[39;49m\u001b[43m_validate_parse_dates_presence\u001b[49m\u001b[43m(\u001b[49m\u001b[38;5;28;43mself\u001b[39;49m\u001b[38;5;241;43m.\u001b[39;49m\u001b[43mnames\u001b[49m\u001b[43m)\u001b[49m  \u001b[38;5;66;03m# type: ignore[has-type]\u001b[39;00m\n\u001b[0;32m    162\u001b[0m \u001b[38;5;28mself\u001b[39m\u001b[38;5;241m.\u001b[39m_set_noconvert_columns()\n\u001b[0;32m    164\u001b[0m \u001b[38;5;66;03m# error: Cannot determine type of 'names'\u001b[39;00m\n",
      "File \u001b[1;32mC:\\Python312\\Lib\\site-packages\\pandas\\io\\parsers\\base_parser.py:243\u001b[0m, in \u001b[0;36mParserBase._validate_parse_dates_presence\u001b[1;34m(self, columns)\u001b[0m\n\u001b[0;32m    233\u001b[0m missing_cols \u001b[38;5;241m=\u001b[39m \u001b[38;5;124m\"\u001b[39m\u001b[38;5;124m, \u001b[39m\u001b[38;5;124m\"\u001b[39m\u001b[38;5;241m.\u001b[39mjoin(\n\u001b[0;32m    234\u001b[0m     \u001b[38;5;28msorted\u001b[39m(\n\u001b[0;32m    235\u001b[0m         {\n\u001b[1;32m   (...)\u001b[0m\n\u001b[0;32m    240\u001b[0m     )\n\u001b[0;32m    241\u001b[0m )\n\u001b[0;32m    242\u001b[0m \u001b[38;5;28;01mif\u001b[39;00m missing_cols:\n\u001b[1;32m--> 243\u001b[0m     \u001b[38;5;28;01mraise\u001b[39;00m \u001b[38;5;167;01mValueError\u001b[39;00m(\n\u001b[0;32m    244\u001b[0m         \u001b[38;5;124mf\u001b[39m\u001b[38;5;124m\"\u001b[39m\u001b[38;5;124mMissing column provided to \u001b[39m\u001b[38;5;124m'\u001b[39m\u001b[38;5;124mparse_dates\u001b[39m\u001b[38;5;124m'\u001b[39m\u001b[38;5;124m: \u001b[39m\u001b[38;5;124m'\u001b[39m\u001b[38;5;132;01m{\u001b[39;00mmissing_cols\u001b[38;5;132;01m}\u001b[39;00m\u001b[38;5;124m'\u001b[39m\u001b[38;5;124m\"\u001b[39m\n\u001b[0;32m    245\u001b[0m     )\n\u001b[0;32m    246\u001b[0m \u001b[38;5;66;03m# Convert positions to actual column names\u001b[39;00m\n\u001b[0;32m    247\u001b[0m \u001b[38;5;28;01mreturn\u001b[39;00m [\n\u001b[0;32m    248\u001b[0m     col \u001b[38;5;28;01mif\u001b[39;00m (\u001b[38;5;28misinstance\u001b[39m(col, \u001b[38;5;28mstr\u001b[39m) \u001b[38;5;129;01mor\u001b[39;00m col \u001b[38;5;129;01min\u001b[39;00m columns) \u001b[38;5;28;01melse\u001b[39;00m columns[col]\n\u001b[0;32m    249\u001b[0m     \u001b[38;5;28;01mfor\u001b[39;00m col \u001b[38;5;129;01min\u001b[39;00m cols_needed\n\u001b[0;32m    250\u001b[0m ]\n",
      "\u001b[1;31mValueError\u001b[0m: Missing column provided to 'parse_dates': 'Date'"
     ]
    }
   ],
   "source": [
    "from bokeh.plotting import figure, output_file, show\n",
    "import pandas\n",
    "\n",
    "df=pandas.read_csv('http://www.google.com/finance/historical?q=NASDAQ:ADBE&startdate=Jan+01%2C+2009&enddate=Aug+2%2C+2012&output=csv', parse_dates=['Date'])\n",
    "p=figure(width=500,height=500,x_axis_type=\"datetime\")\n",
    "\n",
    "p.line(df['Date'],df['Close'],color='Orange',alpha=0.5)\n",
    "\n",
    "output_file('Timeseries.html')\n",
    "show(p)\n"
   ]
  }
 ],
 "metadata": {
  "kernelspec": {
   "display_name": "Python 3 (ipykernel)",
   "language": "python",
   "name": "python3"
  },
  "language_info": {
   "codemirror_mode": {
    "name": "ipython",
    "version": 3
   },
   "file_extension": ".py",
   "mimetype": "text/x-python",
   "name": "python",
   "nbconvert_exporter": "python",
   "pygments_lexer": "ipython3",
   "version": "3.12.2"
  }
 },
 "nbformat": 4,
 "nbformat_minor": 5
}
